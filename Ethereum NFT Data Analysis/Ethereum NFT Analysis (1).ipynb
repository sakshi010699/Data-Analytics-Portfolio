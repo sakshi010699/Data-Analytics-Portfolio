{
 "cells": [
  {
   "cell_type": "code",
   "execution_count": null,
   "id": "cb5527c5",
   "metadata": {},
   "outputs": [],
   "source": [
    "!pip install nfts"
   ]
  },
  {
   "cell_type": "code",
   "execution_count": null,
   "id": "14a24957",
   "metadata": {},
   "outputs": [],
   "source": [
    "import os\n",
    "import sqlite3\n",
    "\n",
    "import matplotlib.pyplot as plt\n",
    "import nfts.dataset\n",
    "import numpy as np\n",
    "import pandas as pd\n",
    "from scipy.optimize import curve_fit\n",
    "from scipy.special import zeta"
   ]
  },
  {
   "cell_type": "code",
   "execution_count": null,
   "id": "656174fb",
   "metadata": {},
   "outputs": [],
   "source": [
    "os.listdir(\"C:\\\\Users\\HP\\Downloads\")"
   ]
  },
  {
   "cell_type": "code",
   "execution_count": null,
   "id": "ef080a5d",
   "metadata": {},
   "outputs": [],
   "source": [
    "DATASET_PATH = \"C:\\\\Users\\HP\\Downloads\\nfts.sqlite\""
   ]
  },
  {
   "cell_type": "code",
   "execution_count": null,
   "id": "4390af9e",
   "metadata": {},
   "outputs": [],
   "source": [
    "ds = nfts.dataset.FromSQLite(DATASET_PATH)"
   ]
  },
  {
   "cell_type": "code",
   "execution_count": null,
   "id": "7e2aac49",
   "metadata": {},
   "outputs": [],
   "source": [
    "import os\n",
    "#import sqlite3\n",
    "import matplotlib.pyplot as plt\n",
    "import numpy as np\n",
    "import pandas as pd\n",
    "#from scipy.optimize import curve_fit\n",
    "#from scipy.special import zeta\n",
    "#import nfts.dataset\n",
    "from matplotlib.pyplot import figure"
   ]
  },
  {
   "cell_type": "code",
   "execution_count": null,
   "id": "fb9ac4cc",
   "metadata": {},
   "outputs": [],
   "source": [
    "transfers_with_mint_time = pd.read_csv(\"C:\\\\Users\\HP\\Downloads\\Tx_with_mint.csv\")"
   ]
  },
  {
   "cell_type": "code",
   "execution_count": null,
   "id": "00868a91",
   "metadata": {},
   "outputs": [],
   "source": [
    "transfers_with_mint_time.head()"
   ]
  },
  {
   "cell_type": "code",
   "execution_count": null,
   "id": "28aff834",
   "metadata": {},
   "outputs": [],
   "source": [
    "#EXAMINE THE TRENDS ON WHEN A TRANSFER HAPPENS AFTER MINTING"
   ]
  },
  {
   "cell_type": "code",
   "execution_count": null,
   "id": "3e6a8c88",
   "metadata": {},
   "outputs": [],
   "source": [
    "figure(figsize=(18,8))\n",
    "_, _, _ = plt.hist(transfers_with_mint_time['mint_to_xfer_seconds']/86400, bins=100,log='False',range=(0,10))\n",
    "plt.xlabel('days')\n",
    "plt.ylabel('n')\n",
    "plt.title('Histogram of mint to xfr times up to 10 days after minting')\n",
    "plt.grid(True)\n",
    "plt.show()"
   ]
  },
  {
   "cell_type": "code",
   "execution_count": null,
   "id": "e5e9f6ff",
   "metadata": {},
   "outputs": [],
   "source": []
  },
  {
   "cell_type": "code",
   "execution_count": null,
   "id": "155755e9",
   "metadata": {},
   "outputs": [],
   "source": [
    "figure(figsize=(18,8))\n",
    "_, _, _ = plt.hist(transfers_with_mint_time['mint_to_xfer_seconds'], bins=100,log='False',range=(1,600))\n",
    "# note the range starts at 1 to exclude mint-transfer pairs\n",
    "plt.xlabel('seconds')\n",
    "plt.ylabel('n')\n",
    "plt.title('Histogram of mint to xfr times for first 10 min after minting')\n",
    "plt.grid(True)\n",
    "plt.show()"
   ]
  },
  {
   "cell_type": "code",
   "execution_count": null,
   "id": "8f206c3f",
   "metadata": {},
   "outputs": [],
   "source": [
    "#who are these guys who buy (or transfer) 60 seconds after the minting?"
   ]
  },
  {
   "cell_type": "code",
   "execution_count": null,
   "id": "c5930913",
   "metadata": {},
   "outputs": [],
   "source": [
    "early_bites = transfers_with_mint_time[transfers_with_mint_time.mint_to_xfer_seconds.between(1,70)]"
   ]
  },
  {
   "cell_type": "code",
   "execution_count": null,
   "id": "b2a12ae8",
   "metadata": {},
   "outputs": [],
   "source": [
    "early_bites"
   ]
  },
  {
   "cell_type": "code",
   "execution_count": null,
   "id": "e0a02c6b",
   "metadata": {},
   "outputs": [],
   "source": [
    "early_by_days = early_bites.groupby('hourofweek').ctoken.count()"
   ]
  },
  {
   "cell_type": "code",
   "execution_count": null,
   "id": "52d3de27",
   "metadata": {},
   "outputs": [],
   "source": [
    "early_by_days"
   ]
  },
  {
   "cell_type": "code",
   "execution_count": null,
   "id": "5c19b6dc",
   "metadata": {},
   "outputs": [],
   "source": [
    "plt.plot(early_by_days)\n",
    "plt.xlabel('hour of week, starting on Monday')\n",
    "plt.ylabel('n xfers')\n",
    "plt.title('n transfers vs hour of week')\n",
    "plt.grid(True)\n",
    "plt.show()"
   ]
  },
  {
   "cell_type": "code",
   "execution_count": null,
   "id": "e70fd372",
   "metadata": {},
   "outputs": [],
   "source": [
    "#That spike on day 35"
   ]
  },
  {
   "cell_type": "code",
   "execution_count": null,
   "id": "ba1b2b51",
   "metadata": {},
   "outputs": [],
   "source": [
    "tper_day = transfers_with_mint_time.groupby('day_of_year').ctoken.count()"
   ]
  },
  {
   "cell_type": "code",
   "execution_count": null,
   "id": "3d47c0f8",
   "metadata": {},
   "outputs": [],
   "source": [
    "tper_day"
   ]
  },
  {
   "cell_type": "code",
   "execution_count": null,
   "id": "57199ab2",
   "metadata": {},
   "outputs": [],
   "source": [
    "plt.plot(tper_day[1:-1])\n",
    "# first and last day are probably partial data\n",
    "plt.xlabel('day of year')\n",
    "plt.ylabel('n transactions ')\n",
    "plt.title('transactions per day vs day of year')\n",
    "plt.grid(True)\n",
    "plt.show()"
   ]
  },
  {
   "cell_type": "code",
   "execution_count": null,
   "id": "bf48266d",
   "metadata": {},
   "outputs": [],
   "source": []
  },
  {
   "cell_type": "code",
   "execution_count": null,
   "id": "6412e3d1",
   "metadata": {},
   "outputs": [],
   "source": [
    "# Import libraries\n",
    "import sqlite3\n",
    "import pandas as pd \n",
    "import networkx as nx\n",
    "from pyvis.network import Network"
   ]
  },
  {
   "cell_type": "code",
   "execution_count": null,
   "id": "9baab361",
   "metadata": {},
   "outputs": [],
   "source": []
  },
  {
   "cell_type": "code",
   "execution_count": null,
   "id": "ca796533",
   "metadata": {},
   "outputs": [],
   "source": []
  },
  {
   "cell_type": "code",
   "execution_count": null,
   "id": "cd15102a",
   "metadata": {},
   "outputs": [],
   "source": []
  },
  {
   "cell_type": "code",
   "execution_count": null,
   "id": "bb7314ce",
   "metadata": {},
   "outputs": [],
   "source": []
  }
 ],
 "metadata": {
  "kernelspec": {
   "display_name": "Python 3 (ipykernel)",
   "language": "python",
   "name": "python3"
  },
  "language_info": {
   "codemirror_mode": {
    "name": "ipython",
    "version": 3
   },
   "file_extension": ".py",
   "mimetype": "text/x-python",
   "name": "python",
   "nbconvert_exporter": "python",
   "pygments_lexer": "ipython3",
   "version": "3.9.12"
  }
 },
 "nbformat": 4,
 "nbformat_minor": 5
}
