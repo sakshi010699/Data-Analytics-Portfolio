{
 "cells": [
  {
   "cell_type": "code",
   "execution_count": null,
   "id": "0fc9b80f",
   "metadata": {},
   "outputs": [],
   "source": [
    "\n"
   ]
  },
  {
   "cell_type": "code",
   "execution_count": null,
   "id": "1c459921",
   "metadata": {},
   "outputs": [],
   "source": [
    "pip install streamlit"
   ]
  },
  {
   "cell_type": "code",
   "execution_count": null,
   "id": "d5993e9e",
   "metadata": {},
   "outputs": [],
   "source": [
    "! pip install circlify\n",
    "\n",
    "\n"
   ]
  },
  {
   "cell_type": "code",
   "execution_count": null,
   "id": "9bd19317",
   "metadata": {},
   "outputs": [],
   "source": [
    "! pip install pulp"
   ]
  },
  {
   "cell_type": "code",
   "execution_count": null,
   "id": "720126db",
   "metadata": {},
   "outputs": [],
   "source": [
    "! pip install streamlit"
   ]
  },
  {
   "cell_type": "code",
   "execution_count": null,
   "id": "1c4a8b7d",
   "metadata": {},
   "outputs": [],
   "source": [
    "import streamlit as st\n",
    "import pandas as pd\n",
    "from pulp import *\n",
    "import matplotlib.pyplot as plt\n",
    "import circlify\n",
    "import random\n",
    "\n",
    "st.title('The McDonalds McHealthy Tool')\n",
    "st.text('''\n",
    "        McDonald's isn't known for its healthy food, but I'm here to prove\n",
    "        that it can be healthy!This tool uses linear programming to find \n",
    "        The best combination of food to hit your nutrition plan! Use the \n",
    "        left hand side to define constraints & watch your combo change \n",
    "        in the middle :)\n",
    "        ''')\n"
   ]
  },
  {
   "cell_type": "code",
   "execution_count": null,
   "id": "9eb3f16e",
   "metadata": {},
   "outputs": [],
   "source": [
    "pip install --upgrade protobuf"
   ]
  },
  {
   "cell_type": "code",
   "execution_count": null,
   "id": "171b4725",
   "metadata": {},
   "outputs": [],
   "source": [
    "McData = pd.read_csv('C:\\\\Users\\HP\\Downloads\\menu.csv')"
   ]
  },
  {
   "cell_type": "code",
   "execution_count": null,
   "id": "ce6849b5",
   "metadata": {},
   "outputs": [],
   "source": [
    "McData.head()"
   ]
  },
  {
   "cell_type": "code",
   "execution_count": null,
   "id": "4f56b27c",
   "metadata": {},
   "outputs": [],
   "source": [
    "# Convert the item names to a list\n",
    "MenuItems = McData.Item.tolist()"
   ]
  },
  {
   "cell_type": "code",
   "execution_count": null,
   "id": "deb325ee",
   "metadata": {},
   "outputs": [],
   "source": [
    "MenuItems"
   ]
  },
  {
   "cell_type": "code",
   "execution_count": null,
   "id": "9c021fc0",
   "metadata": {},
   "outputs": [],
   "source": [
    "# Convert all of the macro nutrients fields to be dictionaries of the item names\n",
    "Calories = McData.set_index('Item')['Calories'].to_dict()\n",
    "TotalFat = McData.set_index('Item')['Total Fat'].to_dict()\n",
    "SaturatedFat = McData.set_index('Item')['Saturated Fat'].to_dict()\n",
    "Carbohydrates = McData.set_index('Item')['Carbohydrates'].to_dict()\n",
    "Sugars = McData.set_index('Item')['Sugars'].to_dict()\n",
    "Protein = McData.set_index('Item')['Protein'].to_dict()\n",
    "Sodium = McData.set_index('Item')['Sodium'].to_dict()"
   ]
  },
  {
   "cell_type": "code",
   "execution_count": null,
   "id": "db07e792",
   "metadata": {},
   "outputs": [],
   "source": [
    "Calories"
   ]
  },
  {
   "cell_type": "code",
   "execution_count": null,
   "id": "ed478bf3",
   "metadata": {},
   "outputs": [],
   "source": [
    "prob = LpProblem(\"McOptimization_Problem\", LpMinimize)"
   ]
  },
  {
   "cell_type": "code",
   "execution_count": null,
   "id": "07c0aa78",
   "metadata": {},
   "outputs": [],
   "source": [
    "MenuItems_vars = LpVariable.dicts(\"MenuItems\",MenuItems,lowBound=0,\n",
    "   upBound=15,cat='Integer')\n"
   ]
  },
  {
   "cell_type": "code",
   "execution_count": null,
   "id": "f8202c52",
   "metadata": {},
   "outputs": [],
   "source": [
    "st.sidebar.write('Limits for Combo')\n"
   ]
  },
  {
   "cell_type": "code",
   "execution_count": null,
   "id": "76258e48",
   "metadata": {},
   "outputs": [],
   "source": [
    "TotalFat_val = st.sidebar.number_input('Total Fat Max', value=70)\n",
    "SatFat_val = st.sidebar.number_input('Saturated Fat Max', value=20)\n",
    "\n",
    "SugarMin = st.sidebar.number_input('Suguar Min', value=80)\n",
    "SugarMax = st.sidebar.number_input('Sugar Max', value=100)\n",
    "\n",
    "CarbsMin = st.sidebar.number_input('Carbohydrates Min', value=260)\n",
    "\n",
    "ProtienMin = st.sidebar.number_input('Protien Min', value=45)\n",
    "ProtienMax = st.sidebar.number_input('Protien Max', value=85)\n",
    "\n",
    "SodiumMax = st.sidebar.number_input('Sodium Max', value=10)\n"
   ]
  },
  {
   "cell_type": "code",
   "execution_count": null,
   "id": "872083a4",
   "metadata": {},
   "outputs": [],
   "source": [
    "# First entry is the calorie calculation (this is our objective)\n",
    "prob += lpSum([Calories[i]*MenuItems_vars[i] for i in MenuItems]), \"Calories\"\n",
    "# Total Fat must be <= 70 g\n",
    "prob += lpSum([TotalFat[i]*MenuItems_vars[i] for i in MenuItems]) <= TotalFat_val, \"TotalFat\"\n",
    "# Saturated Fat is <= 20 g\n",
    "prob += lpSum([SaturatedFat[i]*MenuItems_vars[i] for i in MenuItems]) <= SatFat_val, \"Saturated Fat\"\n",
    "# Carbohydrates must be more than 260 g\n",
    "prob += lpSum([Carbohydrates[i]*MenuItems_vars[i] for i in MenuItems]) >= CarbsMin, \"Carbohydrates_lower\"\n",
    "# Sugar between 80-100 g\n",
    "prob += lpSum([Sugars[i]*MenuItems_vars[i] for i in MenuItems]) >= SugarMin, \"Sugars_lower\"\n",
    "prob += lpSum([Sugars[i]*MenuItems_vars[i] for i in MenuItems]) <= SugarMax, \"Sugars_upper\"\n",
    "# Protein between 45-55g\n",
    "prob += lpSum([Protein[i]*MenuItems_vars[i] for i in MenuItems]) >= ProtienMin, \"Protein_lower\"\n",
    "prob += lpSum([Protein[i]*MenuItems_vars[i] for i in MenuItems]) <= ProtienMax, \"Protein_upper\"\n",
    "# Sodium <= 6000 mg\n",
    "prob += lpSum([Sodium[i]*MenuItems_vars[i] for i in MenuItems]) <= SodiumMax*1000, \"Sodium\""
   ]
  },
  {
   "cell_type": "code",
   "execution_count": null,
   "id": "b3758c9c",
   "metadata": {},
   "outputs": [],
   "source": [
    "prob.solve()\n",
    "\n",
    "\n",
    "# Loop over the constraint set and get the final solution\n",
    "results = {}"
   ]
  },
  {
   "cell_type": "code",
   "execution_count": null,
   "id": "2faf8c76",
   "metadata": {},
   "outputs": [],
   "source": [
    "for constraint in prob.constraints:\n",
    "    s = 0\n",
    "    for var, coefficient in prob.constraints[constraint].items():\n",
    "        s += var.varValue * coefficient\n",
    "    results[prob.constraints[constraint].name.replace('_lower','')\n",
    "        .replace('_upper','')] = s\n",
    "    "
   ]
  },
  {
   "cell_type": "code",
   "execution_count": null,
   "id": "fcc7e2ff",
   "metadata": {},
   "outputs": [],
   "source": [
    "objective_function_value = value(prob.objective)\n"
   ]
  },
  {
   "cell_type": "code",
   "execution_count": null,
   "id": "69a09eef",
   "metadata": {},
   "outputs": [],
   "source": [
    "varsdict = {}\n",
    "for v in prob.variables():\n",
    "    if v.varValue > 0:\n",
    "        varsdict[v.name] = v.varValue\n",
    "df_results = pd.DataFrame([varsdict])"
   ]
  },
  {
   "cell_type": "code",
   "execution_count": null,
   "id": "bcee3275",
   "metadata": {},
   "outputs": [],
   "source": [
    "st.header('Total Calories: ' + str(objective_function_value))\n"
   ]
  },
  {
   "cell_type": "code",
   "execution_count": null,
   "id": "0bbc5137",
   "metadata": {},
   "outputs": [],
   "source": [
    "# Create just a figure and only one subplot\n",
    "fig, ax = plt.subplots(figsize=(15,10))\n",
    "\n",
    "# Title\n",
    "ax.set_title('McHealthy Combo')\n",
    "\n",
    "# Remove axes\n",
    "ax.axis('off')\n"
   ]
  },
  {
   "cell_type": "code",
   "execution_count": null,
   "id": "01065f56",
   "metadata": {},
   "outputs": [],
   "source": []
  },
  {
   "cell_type": "code",
   "execution_count": null,
   "id": "601f3bac",
   "metadata": {},
   "outputs": [],
   "source": [
    "circles = circlify.circlify(\n",
    "    varsdict.values(), \n",
    "    show_enclosure=False, \n",
    "    target_enclosure=circlify.Circle(x=0, y=0, r=1)\n",
    ")"
   ]
  },
  {
   "cell_type": "code",
   "execution_count": null,
   "id": "35c56538",
   "metadata": {},
   "outputs": [],
   "source": [
    "# Find axis boundaries\n",
    "lim = max(\n",
    "    max(\n",
    "        abs(circle.x) + circle.r,\n",
    "        abs(circle.y) + circle.r,\n",
    "    )\n",
    "    for circle in circles\n",
    ")\n",
    "plt.xlim(-lim, lim)\n",
    "plt.ylim(-lim, lim)\n",
    "\n",
    "# list of labels\n",
    "labels = [i[10:] for i in varsdict.keys()]"
   ]
  },
  {
   "cell_type": "code",
   "execution_count": null,
   "id": "7742b961",
   "metadata": {},
   "outputs": [],
   "source": [
    "# print circles\n",
    "for circle, label in zip(circles, labels):\n",
    "    x, y, r = circle\n",
    "    ax.add_patch(plt.Circle((x, y), r*0.7, alpha=0.9, linewidth=2, facecolor=\"#%06x\" % random.randint(0, 0xFFFFFF), edgecolor=\"black\"))\n",
    "    plt.annotate(label, (x,y ) ,va='center', ha='center', bbox=dict(facecolor='white', edgecolor='black', boxstyle='round', pad=.5))\n",
    "    value = circle.ex['datum']\n",
    "    plt.annotate(value, (x,y-.1 ) ,va='center', ha='center', bbox=dict(facecolor='white', edgecolor='black', boxstyle='round', pad=.5))\n",
    "\n",
    "\n",
    "st.pyplot(fig)\n",
    "\n"
   ]
  }
 ],
 "metadata": {
  "kernelspec": {
   "display_name": "Python 3 (ipykernel)",
   "language": "python",
   "name": "python3"
  },
  "language_info": {
   "codemirror_mode": {
    "name": "ipython",
    "version": 3
   },
   "file_extension": ".py",
   "mimetype": "text/x-python",
   "name": "python",
   "nbconvert_exporter": "python",
   "pygments_lexer": "ipython3",
   "version": "3.9.12"
  }
 },
 "nbformat": 4,
 "nbformat_minor": 5
}
